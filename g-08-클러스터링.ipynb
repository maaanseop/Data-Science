{
 "cells": [
  {
   "cell_type": "markdown",
   "metadata": {},
   "source": [
    "클러스터링\n",
    "==\n",
    "데이터\n",
    "--\n",
    "- 전력판매량(시도별/용도별) 액셀 파일 https://goo.gl/Cx8Rzw\n",
    "- 위 자료는 전력거래소에서 받은 자료임\n",
    "- 이 파일을 현재 작업중인 (쥬피터 노트북이 실행되는) 폴더 아래에 data 폴더를 만들고 data 폴더로 복사한다"
   ]
  },
  {
   "cell_type": "markdown",
   "metadata": {},
   "source": [
    "필요한 라이브러리(모듈) 설치\n",
    "--"
   ]
  },
  {
   "cell_type": "code",
   "execution_count": 191,
   "metadata": {},
   "outputs": [],
   "source": [
    "import pandas as pd\n",
    "import numpy as np\n",
    "import matplotlib.pyplot as plt\n",
    "%matplotlib inline"
   ]
  },
  {
   "cell_type": "markdown",
   "metadata": {},
   "source": [
    "데이터 읽기\n",
    "--"
   ]
  },
  {
   "cell_type": "code",
   "execution_count": 192,
   "metadata": {},
   "outputs": [
    {
     "name": "stdout",
     "output_type": "stream",
     "text": [
      "(19, 28)\n"
     ]
    }
   ],
   "source": [
    "power_data = pd.read_excel('data/시도별_용도별.xls')\n",
    "print(power_data.shape)"
   ]
  },
  {
   "cell_type": "code",
   "execution_count": 193,
   "metadata": {},
   "outputs": [
    {
     "data": {
      "text/html": [
       "<div>\n",
       "<style scoped>\n",
       "    .dataframe tbody tr th:only-of-type {\n",
       "        vertical-align: middle;\n",
       "    }\n",
       "\n",
       "    .dataframe tbody tr th {\n",
       "        vertical-align: top;\n",
       "    }\n",
       "\n",
       "    .dataframe thead th {\n",
       "        text-align: right;\n",
       "    }\n",
       "</style>\n",
       "<table border=\"1\" class=\"dataframe\">\n",
       "  <thead>\n",
       "    <tr style=\"text-align: right;\">\n",
       "      <th></th>\n",
       "      <th>0</th>\n",
       "      <th>1</th>\n",
       "      <th>2</th>\n",
       "      <th>3</th>\n",
       "      <th>4</th>\n",
       "    </tr>\n",
       "  </thead>\n",
       "  <tbody>\n",
       "    <tr>\n",
       "      <th>구분</th>\n",
       "      <td>강원</td>\n",
       "      <td>개성</td>\n",
       "      <td>경기</td>\n",
       "      <td>경남</td>\n",
       "      <td>경북</td>\n",
       "    </tr>\n",
       "    <tr>\n",
       "      <th>주거용</th>\n",
       "      <td>1940933</td>\n",
       "      <td>0</td>\n",
       "      <td>16587710</td>\n",
       "      <td>4260988</td>\n",
       "      <td>3302463</td>\n",
       "    </tr>\n",
       "    <tr>\n",
       "      <th>공공용</th>\n",
       "      <td>1400421</td>\n",
       "      <td>0</td>\n",
       "      <td>5533662</td>\n",
       "      <td>1427560</td>\n",
       "      <td>1578115</td>\n",
       "    </tr>\n",
       "    <tr>\n",
       "      <th>서비스업</th>\n",
       "      <td>6203749</td>\n",
       "      <td>0</td>\n",
       "      <td>33434551</td>\n",
       "      <td>8667737</td>\n",
       "      <td>8487402</td>\n",
       "    </tr>\n",
       "    <tr>\n",
       "      <th>업무용합계</th>\n",
       "      <td>7604170</td>\n",
       "      <td>0</td>\n",
       "      <td>38968213</td>\n",
       "      <td>10095297</td>\n",
       "      <td>10065517</td>\n",
       "    </tr>\n",
       "    <tr>\n",
       "      <th>농림어업</th>\n",
       "      <td>607139</td>\n",
       "      <td>0</td>\n",
       "      <td>2371347</td>\n",
       "      <td>2141813</td>\n",
       "      <td>1747462</td>\n",
       "    </tr>\n",
       "    <tr>\n",
       "      <th>광업</th>\n",
       "      <td>398287</td>\n",
       "      <td>0</td>\n",
       "      <td>317263</td>\n",
       "      <td>95989</td>\n",
       "      <td>224568</td>\n",
       "    </tr>\n",
       "    <tr>\n",
       "      <th>제조업</th>\n",
       "      <td>6002286</td>\n",
       "      <td>0</td>\n",
       "      <td>56603327</td>\n",
       "      <td>18053778</td>\n",
       "      <td>30115601</td>\n",
       "    </tr>\n",
       "    <tr>\n",
       "      <th>식료품제조</th>\n",
       "      <td>546621</td>\n",
       "      <td>0</td>\n",
       "      <td>2544420</td>\n",
       "      <td>932743</td>\n",
       "      <td>566071</td>\n",
       "    </tr>\n",
       "    <tr>\n",
       "      <th>섬유,의류</th>\n",
       "      <td>13027</td>\n",
       "      <td>0</td>\n",
       "      <td>2109963</td>\n",
       "      <td>346974</td>\n",
       "      <td>3780171</td>\n",
       "    </tr>\n",
       "    <tr>\n",
       "      <th>목재,나무</th>\n",
       "      <td>19147</td>\n",
       "      <td>0</td>\n",
       "      <td>529274</td>\n",
       "      <td>60160</td>\n",
       "      <td>72680</td>\n",
       "    </tr>\n",
       "    <tr>\n",
       "      <th>펄프,종이</th>\n",
       "      <td>24382</td>\n",
       "      <td>0</td>\n",
       "      <td>1917458</td>\n",
       "      <td>817685</td>\n",
       "      <td>361772</td>\n",
       "    </tr>\n",
       "    <tr>\n",
       "      <th>출판,인쇄</th>\n",
       "      <td>7727</td>\n",
       "      <td>0</td>\n",
       "      <td>731348</td>\n",
       "      <td>28486</td>\n",
       "      <td>44402</td>\n",
       "    </tr>\n",
       "    <tr>\n",
       "      <th>석유,화확</th>\n",
       "      <td>175323</td>\n",
       "      <td>0</td>\n",
       "      <td>6881775</td>\n",
       "      <td>1865583</td>\n",
       "      <td>3653665</td>\n",
       "    </tr>\n",
       "    <tr>\n",
       "      <th>의료,광학</th>\n",
       "      <td>84397</td>\n",
       "      <td>0</td>\n",
       "      <td>1336390</td>\n",
       "      <td>178498</td>\n",
       "      <td>217771</td>\n",
       "    </tr>\n",
       "    <tr>\n",
       "      <th>요업</th>\n",
       "      <td>3695776</td>\n",
       "      <td>0</td>\n",
       "      <td>1728379</td>\n",
       "      <td>429920</td>\n",
       "      <td>1269917</td>\n",
       "    </tr>\n",
       "    <tr>\n",
       "      <th>1차금속</th>\n",
       "      <td>1038913</td>\n",
       "      <td>0</td>\n",
       "      <td>2020196</td>\n",
       "      <td>3809547</td>\n",
       "      <td>10874970</td>\n",
       "    </tr>\n",
       "    <tr>\n",
       "      <th>조립금속</th>\n",
       "      <td>39477</td>\n",
       "      <td>0</td>\n",
       "      <td>2302355</td>\n",
       "      <td>1699879</td>\n",
       "      <td>933178</td>\n",
       "    </tr>\n",
       "    <tr>\n",
       "      <th>기타기계</th>\n",
       "      <td>35063</td>\n",
       "      <td>0</td>\n",
       "      <td>3613798</td>\n",
       "      <td>1902913</td>\n",
       "      <td>782570</td>\n",
       "    </tr>\n",
       "    <tr>\n",
       "      <th>사무기기</th>\n",
       "      <td>2019</td>\n",
       "      <td>0</td>\n",
       "      <td>317244</td>\n",
       "      <td>8070</td>\n",
       "      <td>14468</td>\n",
       "    </tr>\n",
       "    <tr>\n",
       "      <th>전기기기</th>\n",
       "      <td>38062</td>\n",
       "      <td>0</td>\n",
       "      <td>1040171</td>\n",
       "      <td>924235</td>\n",
       "      <td>750786</td>\n",
       "    </tr>\n",
       "    <tr>\n",
       "      <th>영상,음향</th>\n",
       "      <td>43986</td>\n",
       "      <td>0</td>\n",
       "      <td>24519644</td>\n",
       "      <td>534196</td>\n",
       "      <td>4174971</td>\n",
       "    </tr>\n",
       "    <tr>\n",
       "      <th>자동차</th>\n",
       "      <td>113448</td>\n",
       "      <td>0</td>\n",
       "      <td>2977165</td>\n",
       "      <td>2156059</td>\n",
       "      <td>2356890</td>\n",
       "    </tr>\n",
       "    <tr>\n",
       "      <th>기타운송</th>\n",
       "      <td>108629</td>\n",
       "      <td>0</td>\n",
       "      <td>67594</td>\n",
       "      <td>2048646</td>\n",
       "      <td>123935</td>\n",
       "    </tr>\n",
       "    <tr>\n",
       "      <th>가구및기타</th>\n",
       "      <td>12872</td>\n",
       "      <td>0</td>\n",
       "      <td>1833112</td>\n",
       "      <td>262523</td>\n",
       "      <td>60280</td>\n",
       "    </tr>\n",
       "    <tr>\n",
       "      <th>재생재료</th>\n",
       "      <td>3418</td>\n",
       "      <td>0</td>\n",
       "      <td>133041</td>\n",
       "      <td>47662</td>\n",
       "      <td>77104</td>\n",
       "    </tr>\n",
       "    <tr>\n",
       "      <th>산업용합계</th>\n",
       "      <td>7007712</td>\n",
       "      <td>0</td>\n",
       "      <td>59291937</td>\n",
       "      <td>20291580</td>\n",
       "      <td>32087631</td>\n",
       "    </tr>\n",
       "    <tr>\n",
       "      <th>합계</th>\n",
       "      <td>16552816</td>\n",
       "      <td>0</td>\n",
       "      <td>114847859</td>\n",
       "      <td>34647864</td>\n",
       "      <td>45455611</td>\n",
       "    </tr>\n",
       "  </tbody>\n",
       "</table>\n",
       "</div>"
      ],
      "text/plain": [
       "              0   1          2         3         4\n",
       "구분           강원  개성         경기        경남        경북\n",
       "주거용     1940933   0   16587710   4260988   3302463\n",
       "공공용     1400421   0    5533662   1427560   1578115\n",
       "서비스업    6203749   0   33434551   8667737   8487402\n",
       "업무용합계   7604170   0   38968213  10095297  10065517\n",
       "농림어업     607139   0    2371347   2141813   1747462\n",
       "광업       398287   0     317263     95989    224568\n",
       "제조업     6002286   0   56603327  18053778  30115601\n",
       "식료품제조    546621   0    2544420    932743    566071\n",
       "섬유,의류     13027   0    2109963    346974   3780171\n",
       "목재,나무     19147   0     529274     60160     72680\n",
       "펄프,종이     24382   0    1917458    817685    361772\n",
       "출판,인쇄      7727   0     731348     28486     44402\n",
       "석유,화확    175323   0    6881775   1865583   3653665\n",
       "의료,광학     84397   0    1336390    178498    217771\n",
       "요업      3695776   0    1728379    429920   1269917\n",
       "1차금속    1038913   0    2020196   3809547  10874970\n",
       "조립금속      39477   0    2302355   1699879    933178\n",
       "기타기계      35063   0    3613798   1902913    782570\n",
       "사무기기       2019   0     317244      8070     14468\n",
       "전기기기      38062   0    1040171    924235    750786\n",
       "영상,음향     43986   0   24519644    534196   4174971\n",
       "자동차      113448   0    2977165   2156059   2356890\n",
       "기타운송     108629   0      67594   2048646    123935\n",
       "가구및기타     12872   0    1833112    262523     60280\n",
       "재생재료       3418   0     133041     47662     77104\n",
       "산업용합계   7007712   0   59291937  20291580  32087631\n",
       "합계     16552816   0  114847859  34647864  45455611"
      ]
     },
     "execution_count": 193,
     "metadata": {},
     "output_type": "execute_result"
    }
   ],
   "source": [
    "power_data.head().T"
   ]
  },
  {
   "cell_type": "code",
   "execution_count": 194,
   "metadata": {},
   "outputs": [],
   "source": [
    "power = power_data.set_index('구분')\n",
    "power = power.drop(['합계', '개성'], errors='ignore')"
   ]
  },
  {
   "cell_type": "markdown",
   "metadata": {},
   "source": [
    "한글 폰트 설정 (맥, 윈도우, 리눅스)\n",
    "--"
   ]
  },
  {
   "cell_type": "code",
   "execution_count": 195,
   "metadata": {},
   "outputs": [],
   "source": [
    "import platform\n",
    "import matplotlib\n",
    "from matplotlib import font_manager, rc\n",
    "\n",
    "# '-' 기호 보이게 하기\n",
    "matplotlib.rcParams['axes.unicode_minus'] = False\n",
    "\n",
    "# 운영 체제마다 한글이 보이게 하는 설정\n",
    "# 윈도우\n",
    "if platform.system() == 'Windows':\n",
    "    path = \"c:\\Windows\\Fonts\\malgun.ttf\"\n",
    "    font_name = font_manager.FontProperties(fname=path).get_name()\n",
    "    rc('font', family=font_name)\n",
    "# 맥\n",
    "elif platform.system() == 'Darwin':\n",
    "    rc('font', family='AppleGothic')\n",
    "# 리눅스\n",
    "elif platform.system() == 'Linux':\n",
    "    rc('font', family='NanumBarunGothic')"
   ]
  },
  {
   "cell_type": "code",
   "execution_count": 196,
   "metadata": {},
   "outputs": [
    {
     "data": {
      "text/plain": [
       "<matplotlib.axes._subplots.AxesSubplot at 0x10e491780>"
      ]
     },
     "execution_count": 196,
     "metadata": {},
     "output_type": "execute_result"
    },
    {
     "data": {
      "image/png": "[encoded data removed]",
      "text/plain": [
       "<Figure size 720x432 with 1 Axes>"
      ]
     },
     "metadata": {
      "needs_background": "light"
     },
     "output_type": "display_data"
    }
   ],
   "source": [
    "see2 = [ '서비스업','제조업']\n",
    "power[see2].plot(kind='barh', figsize=(10,6), stacked=True)"
   ]
  },
  {
   "cell_type": "code",
   "execution_count": 197,
   "metadata": {
    "scrolled": false
   },
   "outputs": [
    {
     "data": {
      "text/html": [
       "<div>\n",
       "<style scoped>\n",
       "    .dataframe tbody tr th:only-of-type {\n",
       "        vertical-align: middle;\n",
       "    }\n",
       "\n",
       "    .dataframe tbody tr th {\n",
       "        vertical-align: top;\n",
       "    }\n",
       "\n",
       "    .dataframe thead th {\n",
       "        text-align: right;\n",
       "    }\n",
       "</style>\n",
       "<table border=\"1\" class=\"dataframe\">\n",
       "  <thead>\n",
       "    <tr style=\"text-align: right;\">\n",
       "      <th></th>\n",
       "      <th>서비스업</th>\n",
       "      <th>제조업</th>\n",
       "    </tr>\n",
       "    <tr>\n",
       "      <th>구분</th>\n",
       "      <th></th>\n",
       "      <th></th>\n",
       "    </tr>\n",
       "  </thead>\n",
       "  <tbody>\n",
       "    <tr>\n",
       "      <th>강원</th>\n",
       "      <td>6203749</td>\n",
       "      <td>6002286</td>\n",
       "    </tr>\n",
       "    <tr>\n",
       "      <th>경기</th>\n",
       "      <td>33434551</td>\n",
       "      <td>56603327</td>\n",
       "    </tr>\n",
       "    <tr>\n",
       "      <th>경남</th>\n",
       "      <td>8667737</td>\n",
       "      <td>18053778</td>\n",
       "    </tr>\n",
       "    <tr>\n",
       "      <th>경북</th>\n",
       "      <td>8487402</td>\n",
       "      <td>30115601</td>\n",
       "    </tr>\n",
       "    <tr>\n",
       "      <th>광주</th>\n",
       "      <td>3174973</td>\n",
       "      <td>2910768</td>\n",
       "    </tr>\n",
       "  </tbody>\n",
       "</table>\n",
       "</div>"
      ],
      "text/plain": [
       "        서비스업       제조업\n",
       "구분                    \n",
       "강원   6203749   6002286\n",
       "경기  33434551  56603327\n",
       "경남   8667737  18053778\n",
       "경북   8487402  30115601\n",
       "광주   3174973   2910768"
      ]
     },
     "execution_count": 197,
     "metadata": {},
     "output_type": "execute_result"
    }
   ],
   "source": [
    "power = power[['서비스업', '제조업']]\n",
    "power.head(5)"
   ]
  },
  {
   "cell_type": "code",
   "execution_count": 198,
   "metadata": {},
   "outputs": [
    {
     "data": {
      "text/plain": [
       "15"
      ]
     },
     "execution_count": 198,
     "metadata": {},
     "output_type": "execute_result"
    }
   ],
   "source": [
    "power = power.drop(['경기', '서울'])\n",
    "n_samples = power.shape[0] ; n_samples"
   ]
  },
  {
   "cell_type": "code",
   "execution_count": 199,
   "metadata": {},
   "outputs": [
    {
     "data": {
      "image/png": "[encoded data removed]",
      "text/plain": [
       "<Figure size 576x576 with 1 Axes>"
      ]
     },
     "metadata": {
      "needs_background": "light"
     },
     "output_type": "display_data"
    }
   ],
   "source": [
    "plt.figure(figsize=(8,8))\n",
    "plt.scatter(power['서비스업'], power['제조업'],c='k',marker='o')\n",
    "plt.xlabel('서비스업')\n",
    "plt.ylabel('제조업')\n",
    "\n",
    "for n in range(power.shape[0]):\n",
    "    plt.text(power['서비스업'][n]*1.03, power['제조업'][n]*0.98, power.index[n])"
   ]
  },
  {
   "cell_type": "markdown",
   "metadata": {},
   "source": [
    "스캐터 플롯\n",
    "--"
   ]
  },
  {
   "cell_type": "markdown",
   "metadata": {},
   "source": [
    "덴드로그램\n",
    "--\n"
   ]
  },
  {
   "cell_type": "code",
   "execution_count": 200,
   "metadata": {},
   "outputs": [
    {
     "data": {
      "image/png": "[encoded data removed]",
      "text/plain": [
       "<Figure size 720x360 with 1 Axes>"
      ]
     },
     "metadata": {
      "needs_background": "light"
     },
     "output_type": "display_data"
    }
   ],
   "source": [
    "from scipy.cluster.hierarchy import dendrogram, linkage\n",
    "\n",
    "plt.figure(figsize=(10, 5))\n",
    "link_dist = linkage(power, metric='euclidean', method='ward')  \n",
    "dendrogram(link_dist, labels=power.index)\n",
    "plt.show()"
   ]
  },
  {
   "cell_type": "markdown",
   "metadata": {},
   "source": [
    "클러스터링 (KMeans)\n",
    "--"
   ]
  },
  {
   "cell_type": "code",
   "execution_count": 201,
   "metadata": {},
   "outputs": [
    {
     "name": "stdout",
     "output_type": "stream",
     "text": [
      "3\n"
     ]
    }
   ],
   "source": [
    "from sklearn.cluster import KMeans\n",
    "k = KMeans(n_clusters=3).fit(power)\n",
    "print(k.n_clusters)"
   ]
  },
  {
   "cell_type": "code",
   "execution_count": 202,
   "metadata": {},
   "outputs": [
    {
     "data": {
      "text/html": [
       "<div>\n",
       "<style scoped>\n",
       "    .dataframe tbody tr th:only-of-type {\n",
       "        vertical-align: middle;\n",
       "    }\n",
       "\n",
       "    .dataframe tbody tr th {\n",
       "        vertical-align: top;\n",
       "    }\n",
       "\n",
       "    .dataframe thead th {\n",
       "        text-align: right;\n",
       "    }\n",
       "</style>\n",
       "<table border=\"1\" class=\"dataframe\">\n",
       "  <thead>\n",
       "    <tr style=\"text-align: right;\">\n",
       "      <th></th>\n",
       "      <th>서비스업</th>\n",
       "      <th>제조업</th>\n",
       "      <th>클러스터</th>\n",
       "    </tr>\n",
       "    <tr>\n",
       "      <th>구분</th>\n",
       "      <th></th>\n",
       "      <th></th>\n",
       "      <th></th>\n",
       "    </tr>\n",
       "  </thead>\n",
       "  <tbody>\n",
       "    <tr>\n",
       "      <th>강원</th>\n",
       "      <td>6203749</td>\n",
       "      <td>6002286</td>\n",
       "      <td>1</td>\n",
       "    </tr>\n",
       "    <tr>\n",
       "      <th>경남</th>\n",
       "      <td>8667737</td>\n",
       "      <td>18053778</td>\n",
       "      <td>0</td>\n",
       "    </tr>\n",
       "    <tr>\n",
       "      <th>경북</th>\n",
       "      <td>8487402</td>\n",
       "      <td>30115601</td>\n",
       "      <td>2</td>\n",
       "    </tr>\n",
       "    <tr>\n",
       "      <th>광주</th>\n",
       "      <td>3174973</td>\n",
       "      <td>2910768</td>\n",
       "      <td>1</td>\n",
       "    </tr>\n",
       "    <tr>\n",
       "      <th>대구</th>\n",
       "      <td>5470438</td>\n",
       "      <td>5862633</td>\n",
       "      <td>1</td>\n",
       "    </tr>\n",
       "    <tr>\n",
       "      <th>대전</th>\n",
       "      <td>3955921</td>\n",
       "      <td>2608343</td>\n",
       "      <td>1</td>\n",
       "    </tr>\n",
       "    <tr>\n",
       "      <th>부산</th>\n",
       "      <td>7582169</td>\n",
       "      <td>7512588</td>\n",
       "      <td>1</td>\n",
       "    </tr>\n",
       "    <tr>\n",
       "      <th>세종</th>\n",
       "      <td>645424</td>\n",
       "      <td>1502922</td>\n",
       "      <td>1</td>\n",
       "    </tr>\n",
       "    <tr>\n",
       "      <th>울산</th>\n",
       "      <td>3649386</td>\n",
       "      <td>25883132</td>\n",
       "      <td>2</td>\n",
       "    </tr>\n",
       "    <tr>\n",
       "      <th>인천</th>\n",
       "      <td>7154416</td>\n",
       "      <td>12367816</td>\n",
       "      <td>0</td>\n",
       "    </tr>\n",
       "  </tbody>\n",
       "</table>\n",
       "</div>"
      ],
      "text/plain": [
       "       서비스업       제조업  클러스터\n",
       "구분                         \n",
       "강원  6203749   6002286     1\n",
       "경남  8667737  18053778     0\n",
       "경북  8487402  30115601     2\n",
       "광주  3174973   2910768     1\n",
       "대구  5470438   5862633     1\n",
       "대전  3955921   2608343     1\n",
       "부산  7582169   7512588     1\n",
       "세종   645424   1502922     1\n",
       "울산  3649386  25883132     2\n",
       "인천  7154416  12367816     0"
      ]
     },
     "execution_count": 202,
     "metadata": {},
     "output_type": "execute_result"
    }
   ],
   "source": [
    "power['클러스터'] = k.labels_\n",
    "power.head(10)"
   ]
  },
  {
   "cell_type": "code",
   "execution_count": 203,
   "metadata": {},
   "outputs": [
    {
     "data": {
      "text/html": [
       "<div>\n",
       "<style scoped>\n",
       "    .dataframe tbody tr th:only-of-type {\n",
       "        vertical-align: middle;\n",
       "    }\n",
       "\n",
       "    .dataframe tbody tr th {\n",
       "        vertical-align: top;\n",
       "    }\n",
       "\n",
       "    .dataframe thead th {\n",
       "        text-align: right;\n",
       "    }\n",
       "</style>\n",
       "<table border=\"1\" class=\"dataframe\">\n",
       "  <thead>\n",
       "    <tr style=\"text-align: right;\">\n",
       "      <th></th>\n",
       "      <th>서비스업</th>\n",
       "      <th>제조업</th>\n",
       "    </tr>\n",
       "    <tr>\n",
       "      <th>구분</th>\n",
       "      <th></th>\n",
       "      <th></th>\n",
       "    </tr>\n",
       "  </thead>\n",
       "  <tbody>\n",
       "    <tr>\n",
       "      <th>강원</th>\n",
       "      <td>6203749</td>\n",
       "      <td>6002286</td>\n",
       "    </tr>\n",
       "    <tr>\n",
       "      <th>경남</th>\n",
       "      <td>8667737</td>\n",
       "      <td>18053778</td>\n",
       "    </tr>\n",
       "    <tr>\n",
       "      <th>경북</th>\n",
       "      <td>8487402</td>\n",
       "      <td>30115601</td>\n",
       "    </tr>\n",
       "    <tr>\n",
       "      <th>광주</th>\n",
       "      <td>3174973</td>\n",
       "      <td>2910768</td>\n",
       "    </tr>\n",
       "    <tr>\n",
       "      <th>대구</th>\n",
       "      <td>5470438</td>\n",
       "      <td>5862633</td>\n",
       "    </tr>\n",
       "  </tbody>\n",
       "</table>\n",
       "</div>"
      ],
      "text/plain": [
       "       서비스업       제조업\n",
       "구분                   \n",
       "강원  6203749   6002286\n",
       "경남  8667737  18053778\n",
       "경북  8487402  30115601\n",
       "광주  3174973   2910768\n",
       "대구  5470438   5862633"
      ]
     },
     "execution_count": 203,
     "metadata": {},
     "output_type": "execute_result"
    }
   ],
   "source": [
    "power.drop('클러스터', axis = 1, inplace=True) ; power.head()"
   ]
  },
  {
   "cell_type": "code",
   "execution_count": 204,
   "metadata": {
    "scrolled": true
   },
   "outputs": [
    {
     "data": {
      "text/plain": [
       "array([[ 6245553.6       , 16144968.6       ],\n",
       "       [ 4191629.42857143,  3805868.14285714],\n",
       "       [ 6433742.33333333, 31018896.        ]])"
      ]
     },
     "execution_count": 204,
     "metadata": {},
     "output_type": "execute_result"
    }
   ],
   "source": [
    "centers = k.cluster_centers_ ; centers"
   ]
  },
  {
   "cell_type": "code",
   "execution_count": 205,
   "metadata": {},
   "outputs": [
    {
     "data": {
      "image/png": "[encoded data removed]",
      "text/plain": [
       "<Figure size 720x576 with 1 Axes>"
      ]
     },
     "metadata": {
      "needs_background": "light"
     },
     "output_type": "display_data"
    }
   ],
   "source": [
    "my_markers=['*','^', 'o','^','.',',','1','2']\n",
    "my_color =['r','c','g','b','g','k','r','y']\n",
    "\n",
    "plt.figure(figsize=(10, 8))\n",
    "plt.xlabel('서비스업')\n",
    "plt.ylabel('제조업')\n",
    "for n in range(power.shape[0]):\n",
    "    label = k.labels_[n]\n",
    "    plt.scatter(power['서비스업'][n], power['제조업'][n], c=my_color[label], marker=my_markers[label], s=100)\n",
    "    plt.text(power['서비스업'][n]*1.03, power['제조업'][n]*0.98, power.index[n])\n",
    "    \n",
    "for i in range(k.n_clusters):\n",
    "    plt.scatter(centers[i][0], centers[i][1], c = 'r', s= 50)"
   ]
  },
  {
   "cell_type": "markdown",
   "metadata": {},
   "source": [
    "스케일링 (표준 정규화)\n",
    "--"
   ]
  },
  {
   "cell_type": "code",
   "execution_count": 206,
   "metadata": {},
   "outputs": [
    {
     "data": {
      "text/html": [
       "<div>\n",
       "<style scoped>\n",
       "    .dataframe tbody tr th:only-of-type {\n",
       "        vertical-align: middle;\n",
       "    }\n",
       "\n",
       "    .dataframe tbody tr th {\n",
       "        vertical-align: top;\n",
       "    }\n",
       "\n",
       "    .dataframe thead th {\n",
       "        text-align: right;\n",
       "    }\n",
       "</style>\n",
       "<table border=\"1\" class=\"dataframe\">\n",
       "  <thead>\n",
       "    <tr style=\"text-align: right;\">\n",
       "      <th></th>\n",
       "      <th>서비스업</th>\n",
       "      <th>제조업</th>\n",
       "    </tr>\n",
       "    <tr>\n",
       "      <th>구분</th>\n",
       "      <th></th>\n",
       "      <th></th>\n",
       "    </tr>\n",
       "  </thead>\n",
       "  <tbody>\n",
       "    <tr>\n",
       "      <th>강원</th>\n",
       "      <td>0.393992</td>\n",
       "      <td>-0.676282</td>\n",
       "    </tr>\n",
       "    <tr>\n",
       "      <th>경남</th>\n",
       "      <td>1.498349</td>\n",
       "      <td>0.431200</td>\n",
       "    </tr>\n",
       "    <tr>\n",
       "      <th>경북</th>\n",
       "      <td>1.417523</td>\n",
       "      <td>1.539632</td>\n",
       "    </tr>\n",
       "    <tr>\n",
       "      <th>광주</th>\n",
       "      <td>-0.963503</td>\n",
       "      <td>-0.960380</td>\n",
       "    </tr>\n",
       "    <tr>\n",
       "      <th>대구</th>\n",
       "      <td>0.065323</td>\n",
       "      <td>-0.689116</td>\n",
       "    </tr>\n",
       "    <tr>\n",
       "      <th>대전</th>\n",
       "      <td>-0.613482</td>\n",
       "      <td>-0.988171</td>\n",
       "    </tr>\n",
       "    <tr>\n",
       "      <th>부산</th>\n",
       "      <td>1.011798</td>\n",
       "      <td>-0.537491</td>\n",
       "    </tr>\n",
       "    <tr>\n",
       "      <th>세종</th>\n",
       "      <td>-2.097244</td>\n",
       "      <td>-1.089755</td>\n",
       "    </tr>\n",
       "    <tr>\n",
       "      <th>울산</th>\n",
       "      <td>-0.750871</td>\n",
       "      <td>1.150686</td>\n",
       "    </tr>\n",
       "    <tr>\n",
       "      <th>인천</th>\n",
       "      <td>0.820080</td>\n",
       "      <td>-0.091316</td>\n",
       "    </tr>\n",
       "    <tr>\n",
       "      <th>전남</th>\n",
       "      <td>0.164025</td>\n",
       "      <td>0.743660</td>\n",
       "    </tr>\n",
       "    <tr>\n",
       "      <th>전북</th>\n",
       "      <td>-0.185723</td>\n",
       "      <td>-0.036357</td>\n",
       "    </tr>\n",
       "    <tr>\n",
       "      <th>제주</th>\n",
       "      <td>-1.351751</td>\n",
       "      <td>-1.205671</td>\n",
       "    </tr>\n",
       "    <tr>\n",
       "      <th>충남</th>\n",
       "      <td>0.824572</td>\n",
       "      <td>2.177606</td>\n",
       "    </tr>\n",
       "    <tr>\n",
       "      <th>충북</th>\n",
       "      <td>-0.233088</td>\n",
       "      <td>0.231756</td>\n",
       "    </tr>\n",
       "  </tbody>\n",
       "</table>\n",
       "</div>"
      ],
      "text/plain": [
       "        서비스업       제조업\n",
       "구분                    \n",
       "강원  0.393992 -0.676282\n",
       "경남  1.498349  0.431200\n",
       "경북  1.417523  1.539632\n",
       "광주 -0.963503 -0.960380\n",
       "대구  0.065323 -0.689116\n",
       "대전 -0.613482 -0.988171\n",
       "부산  1.011798 -0.537491\n",
       "세종 -2.097244 -1.089755\n",
       "울산 -0.750871  1.150686\n",
       "인천  0.820080 -0.091316\n",
       "전남  0.164025  0.743660\n",
       "전북 -0.185723 -0.036357\n",
       "제주 -1.351751 -1.205671\n",
       "충남  0.824572  2.177606\n",
       "충북 -0.233088  0.231756"
      ]
     },
     "execution_count": 206,
     "metadata": {},
     "output_type": "execute_result"
    }
   ],
   "source": [
    "from sklearn.preprocessing import StandardScaler\n",
    "scaler = StandardScaler()\n",
    "power[['서비스업', '제조업']] = scaler.fit_transform(power[['서비스업', '제조업']])\n",
    "power"
   ]
  },
  {
   "cell_type": "markdown",
   "metadata": {},
   "source": [
    "정규화 이후의 클러스터링\n",
    "--"
   ]
  },
  {
   "cell_type": "code",
   "execution_count": 207,
   "metadata": {
    "scrolled": true
   },
   "outputs": [
    {
     "data": {
      "image/png": "[encoded data removed]",
      "text/plain": [
       "<Figure size 720x360 with 1 Axes>"
      ]
     },
     "metadata": {
      "needs_background": "light"
     },
     "output_type": "display_data"
    }
   ],
   "source": [
    "Z = linkage(power, metric='euclidean', method='ward') \n",
    "# 유클리드 거리를 이용해 Linkage Matrix를 생성\n",
    "plt.figure(figsize=(10, 5))\n",
    "plt.title('덴드로그램')\n",
    "dendrogram(Z, labels=power.index)\n",
    "plt.show()"
   ]
  },
  {
   "cell_type": "code",
   "execution_count": 208,
   "metadata": {},
   "outputs": [],
   "source": [
    "k = KMeans(n_clusters= 4).fit(power)"
   ]
  },
  {
   "cell_type": "code",
   "execution_count": 209,
   "metadata": {},
   "outputs": [],
   "source": [
    "centers = k.cluster_centers_"
   ]
  },
  {
   "cell_type": "code",
   "execution_count": 210,
   "metadata": {},
   "outputs": [
    {
     "data": {
      "text/plain": [
       "<Figure size 432x288 with 0 Axes>"
      ]
     },
     "metadata": {},
     "output_type": "display_data"
    },
    {
     "data": {
      "image/png": "[encoded data removed]",
      "text/plain": [
       "<Figure size 720x576 with 1 Axes>"
      ]
     },
     "metadata": {
      "needs_background": "light"
     },
     "output_type": "display_data"
    }
   ],
   "source": [
    "plt.clf()\n",
    "plt.figure(figsize=(10, 8))\n",
    "plt.xlabel('서비스업')\n",
    "plt.ylabel('제조업')\n",
    "\n",
    "for n in range(power.shape[0]):\n",
    "    label = k.labels_[n]\n",
    "    plt.scatter(power['서비스업'][n], power['제조업'][n], c=my_color[label], marker=my_markers[label], s=100)\n",
    "    plt.text(power['서비스업'][n]*1.05, power['제조업'][n]*0.99, power.index[n])\n",
    "    \n",
    "for i in range(k.n_clusters):\n",
    "    plt.scatter(centers[i][0], centers[i][1], c = 'r', s= 50)"
   ]
  },
  {
   "cell_type": "markdown",
   "metadata": {},
   "source": [
    "모든 특성을 고려한 크러스터링 (두개가 아니라)\n",
    "--"
   ]
  },
  {
   "cell_type": "code",
   "execution_count": 211,
   "metadata": {},
   "outputs": [
    {
     "data": {
      "text/html": [
       "<div>\n",
       "<style scoped>\n",
       "    .dataframe tbody tr th:only-of-type {\n",
       "        vertical-align: middle;\n",
       "    }\n",
       "\n",
       "    .dataframe tbody tr th {\n",
       "        vertical-align: top;\n",
       "    }\n",
       "\n",
       "    .dataframe thead th {\n",
       "        text-align: right;\n",
       "    }\n",
       "</style>\n",
       "<table border=\"1\" class=\"dataframe\">\n",
       "  <thead>\n",
       "    <tr style=\"text-align: right;\">\n",
       "      <th></th>\n",
       "      <th>0</th>\n",
       "      <th>1</th>\n",
       "      <th>2</th>\n",
       "      <th>3</th>\n",
       "      <th>4</th>\n",
       "    </tr>\n",
       "  </thead>\n",
       "  <tbody>\n",
       "    <tr>\n",
       "      <th>구분</th>\n",
       "      <td>강원</td>\n",
       "      <td>개성</td>\n",
       "      <td>경기</td>\n",
       "      <td>경남</td>\n",
       "      <td>경북</td>\n",
       "    </tr>\n",
       "    <tr>\n",
       "      <th>주거용</th>\n",
       "      <td>1940933</td>\n",
       "      <td>0</td>\n",
       "      <td>16587710</td>\n",
       "      <td>4260988</td>\n",
       "      <td>3302463</td>\n",
       "    </tr>\n",
       "    <tr>\n",
       "      <th>공공용</th>\n",
       "      <td>1400421</td>\n",
       "      <td>0</td>\n",
       "      <td>5533662</td>\n",
       "      <td>1427560</td>\n",
       "      <td>1578115</td>\n",
       "    </tr>\n",
       "    <tr>\n",
       "      <th>서비스업</th>\n",
       "      <td>6203749</td>\n",
       "      <td>0</td>\n",
       "      <td>33434551</td>\n",
       "      <td>8667737</td>\n",
       "      <td>8487402</td>\n",
       "    </tr>\n",
       "    <tr>\n",
       "      <th>업무용합계</th>\n",
       "      <td>7604170</td>\n",
       "      <td>0</td>\n",
       "      <td>38968213</td>\n",
       "      <td>10095297</td>\n",
       "      <td>10065517</td>\n",
       "    </tr>\n",
       "    <tr>\n",
       "      <th>농림어업</th>\n",
       "      <td>607139</td>\n",
       "      <td>0</td>\n",
       "      <td>2371347</td>\n",
       "      <td>2141813</td>\n",
       "      <td>1747462</td>\n",
       "    </tr>\n",
       "    <tr>\n",
       "      <th>광업</th>\n",
       "      <td>398287</td>\n",
       "      <td>0</td>\n",
       "      <td>317263</td>\n",
       "      <td>95989</td>\n",
       "      <td>224568</td>\n",
       "    </tr>\n",
       "    <tr>\n",
       "      <th>제조업</th>\n",
       "      <td>6002286</td>\n",
       "      <td>0</td>\n",
       "      <td>56603327</td>\n",
       "      <td>18053778</td>\n",
       "      <td>30115601</td>\n",
       "    </tr>\n",
       "    <tr>\n",
       "      <th>식료품제조</th>\n",
       "      <td>546621</td>\n",
       "      <td>0</td>\n",
       "      <td>2544420</td>\n",
       "      <td>932743</td>\n",
       "      <td>566071</td>\n",
       "    </tr>\n",
       "    <tr>\n",
       "      <th>섬유,의류</th>\n",
       "      <td>13027</td>\n",
       "      <td>0</td>\n",
       "      <td>2109963</td>\n",
       "      <td>346974</td>\n",
       "      <td>3780171</td>\n",
       "    </tr>\n",
       "    <tr>\n",
       "      <th>목재,나무</th>\n",
       "      <td>19147</td>\n",
       "      <td>0</td>\n",
       "      <td>529274</td>\n",
       "      <td>60160</td>\n",
       "      <td>72680</td>\n",
       "    </tr>\n",
       "    <tr>\n",
       "      <th>펄프,종이</th>\n",
       "      <td>24382</td>\n",
       "      <td>0</td>\n",
       "      <td>1917458</td>\n",
       "      <td>817685</td>\n",
       "      <td>361772</td>\n",
       "    </tr>\n",
       "    <tr>\n",
       "      <th>출판,인쇄</th>\n",
       "      <td>7727</td>\n",
       "      <td>0</td>\n",
       "      <td>731348</td>\n",
       "      <td>28486</td>\n",
       "      <td>44402</td>\n",
       "    </tr>\n",
       "    <tr>\n",
       "      <th>석유,화확</th>\n",
       "      <td>175323</td>\n",
       "      <td>0</td>\n",
       "      <td>6881775</td>\n",
       "      <td>1865583</td>\n",
       "      <td>3653665</td>\n",
       "    </tr>\n",
       "    <tr>\n",
       "      <th>의료,광학</th>\n",
       "      <td>84397</td>\n",
       "      <td>0</td>\n",
       "      <td>1336390</td>\n",
       "      <td>178498</td>\n",
       "      <td>217771</td>\n",
       "    </tr>\n",
       "    <tr>\n",
       "      <th>요업</th>\n",
       "      <td>3695776</td>\n",
       "      <td>0</td>\n",
       "      <td>1728379</td>\n",
       "      <td>429920</td>\n",
       "      <td>1269917</td>\n",
       "    </tr>\n",
       "    <tr>\n",
       "      <th>1차금속</th>\n",
       "      <td>1038913</td>\n",
       "      <td>0</td>\n",
       "      <td>2020196</td>\n",
       "      <td>3809547</td>\n",
       "      <td>10874970</td>\n",
       "    </tr>\n",
       "    <tr>\n",
       "      <th>조립금속</th>\n",
       "      <td>39477</td>\n",
       "      <td>0</td>\n",
       "      <td>2302355</td>\n",
       "      <td>1699879</td>\n",
       "      <td>933178</td>\n",
       "    </tr>\n",
       "    <tr>\n",
       "      <th>기타기계</th>\n",
       "      <td>35063</td>\n",
       "      <td>0</td>\n",
       "      <td>3613798</td>\n",
       "      <td>1902913</td>\n",
       "      <td>782570</td>\n",
       "    </tr>\n",
       "    <tr>\n",
       "      <th>사무기기</th>\n",
       "      <td>2019</td>\n",
       "      <td>0</td>\n",
       "      <td>317244</td>\n",
       "      <td>8070</td>\n",
       "      <td>14468</td>\n",
       "    </tr>\n",
       "    <tr>\n",
       "      <th>전기기기</th>\n",
       "      <td>38062</td>\n",
       "      <td>0</td>\n",
       "      <td>1040171</td>\n",
       "      <td>924235</td>\n",
       "      <td>750786</td>\n",
       "    </tr>\n",
       "    <tr>\n",
       "      <th>영상,음향</th>\n",
       "      <td>43986</td>\n",
       "      <td>0</td>\n",
       "      <td>24519644</td>\n",
       "      <td>534196</td>\n",
       "      <td>4174971</td>\n",
       "    </tr>\n",
       "    <tr>\n",
       "      <th>자동차</th>\n",
       "      <td>113448</td>\n",
       "      <td>0</td>\n",
       "      <td>2977165</td>\n",
       "      <td>2156059</td>\n",
       "      <td>2356890</td>\n",
       "    </tr>\n",
       "    <tr>\n",
       "      <th>기타운송</th>\n",
       "      <td>108629</td>\n",
       "      <td>0</td>\n",
       "      <td>67594</td>\n",
       "      <td>2048646</td>\n",
       "      <td>123935</td>\n",
       "    </tr>\n",
       "    <tr>\n",
       "      <th>가구및기타</th>\n",
       "      <td>12872</td>\n",
       "      <td>0</td>\n",
       "      <td>1833112</td>\n",
       "      <td>262523</td>\n",
       "      <td>60280</td>\n",
       "    </tr>\n",
       "    <tr>\n",
       "      <th>재생재료</th>\n",
       "      <td>3418</td>\n",
       "      <td>0</td>\n",
       "      <td>133041</td>\n",
       "      <td>47662</td>\n",
       "      <td>77104</td>\n",
       "    </tr>\n",
       "    <tr>\n",
       "      <th>산업용합계</th>\n",
       "      <td>7007712</td>\n",
       "      <td>0</td>\n",
       "      <td>59291937</td>\n",
       "      <td>20291580</td>\n",
       "      <td>32087631</td>\n",
       "    </tr>\n",
       "    <tr>\n",
       "      <th>합계</th>\n",
       "      <td>16552816</td>\n",
       "      <td>0</td>\n",
       "      <td>114847859</td>\n",
       "      <td>34647864</td>\n",
       "      <td>45455611</td>\n",
       "    </tr>\n",
       "  </tbody>\n",
       "</table>\n",
       "</div>"
      ],
      "text/plain": [
       "              0   1          2         3         4\n",
       "구분           강원  개성         경기        경남        경북\n",
       "주거용     1940933   0   16587710   4260988   3302463\n",
       "공공용     1400421   0    5533662   1427560   1578115\n",
       "서비스업    6203749   0   33434551   8667737   8487402\n",
       "업무용합계   7604170   0   38968213  10095297  10065517\n",
       "농림어업     607139   0    2371347   2141813   1747462\n",
       "광업       398287   0     317263     95989    224568\n",
       "제조업     6002286   0   56603327  18053778  30115601\n",
       "식료품제조    546621   0    2544420    932743    566071\n",
       "섬유,의류     13027   0    2109963    346974   3780171\n",
       "목재,나무     19147   0     529274     60160     72680\n",
       "펄프,종이     24382   0    1917458    817685    361772\n",
       "출판,인쇄      7727   0     731348     28486     44402\n",
       "석유,화확    175323   0    6881775   1865583   3653665\n",
       "의료,광학     84397   0    1336390    178498    217771\n",
       "요업      3695776   0    1728379    429920   1269917\n",
       "1차금속    1038913   0    2020196   3809547  10874970\n",
       "조립금속      39477   0    2302355   1699879    933178\n",
       "기타기계      35063   0    3613798   1902913    782570\n",
       "사무기기       2019   0     317244      8070     14468\n",
       "전기기기      38062   0    1040171    924235    750786\n",
       "영상,음향     43986   0   24519644    534196   4174971\n",
       "자동차      113448   0    2977165   2156059   2356890\n",
       "기타운송     108629   0      67594   2048646    123935\n",
       "가구및기타     12872   0    1833112    262523     60280\n",
       "재생재료       3418   0     133041     47662     77104\n",
       "산업용합계   7007712   0   59291937  20291580  32087631\n",
       "합계     16552816   0  114847859  34647864  45455611"
      ]
     },
     "execution_count": 211,
     "metadata": {},
     "output_type": "execute_result"
    }
   ],
   "source": [
    "power_data.head().T"
   ]
  },
  {
   "cell_type": "code",
   "execution_count": 212,
   "metadata": {},
   "outputs": [],
   "source": [
    "power2 = power_data.set_index('구분')\n",
    "power2.drop(['업무용합계', '산업용합계', '합계'], axis=1, \n",
    "           inplace=True, errors='ignore')\n",
    "power2.drop(['합계','개성','경기','서울'], inplace=True,errors='ignore')"
   ]
  },
  {
   "cell_type": "code",
   "execution_count": 213,
   "metadata": {
    "scrolled": false
   },
   "outputs": [
    {
     "data": {
      "text/html": [
       "<div>\n",
       "<style scoped>\n",
       "    .dataframe tbody tr th:only-of-type {\n",
       "        vertical-align: middle;\n",
       "    }\n",
       "\n",
       "    .dataframe tbody tr th {\n",
       "        vertical-align: top;\n",
       "    }\n",
       "\n",
       "    .dataframe thead th {\n",
       "        text-align: right;\n",
       "    }\n",
       "</style>\n",
       "<table border=\"1\" class=\"dataframe\">\n",
       "  <thead>\n",
       "    <tr style=\"text-align: right;\">\n",
       "      <th></th>\n",
       "      <th>주거용</th>\n",
       "      <th>공공용</th>\n",
       "      <th>서비스업</th>\n",
       "      <th>농림어업</th>\n",
       "      <th>광업</th>\n",
       "      <th>제조업</th>\n",
       "      <th>식료품제조</th>\n",
       "      <th>섬유,의류</th>\n",
       "      <th>목재,나무</th>\n",
       "      <th>펄프,종이</th>\n",
       "      <th>...</th>\n",
       "      <th>1차금속</th>\n",
       "      <th>조립금속</th>\n",
       "      <th>기타기계</th>\n",
       "      <th>사무기기</th>\n",
       "      <th>전기기기</th>\n",
       "      <th>영상,음향</th>\n",
       "      <th>자동차</th>\n",
       "      <th>기타운송</th>\n",
       "      <th>가구및기타</th>\n",
       "      <th>재생재료</th>\n",
       "    </tr>\n",
       "    <tr>\n",
       "      <th>구분</th>\n",
       "      <th></th>\n",
       "      <th></th>\n",
       "      <th></th>\n",
       "      <th></th>\n",
       "      <th></th>\n",
       "      <th></th>\n",
       "      <th></th>\n",
       "      <th></th>\n",
       "      <th></th>\n",
       "      <th></th>\n",
       "      <th></th>\n",
       "      <th></th>\n",
       "      <th></th>\n",
       "      <th></th>\n",
       "      <th></th>\n",
       "      <th></th>\n",
       "      <th></th>\n",
       "      <th></th>\n",
       "      <th></th>\n",
       "      <th></th>\n",
       "      <th></th>\n",
       "    </tr>\n",
       "  </thead>\n",
       "  <tbody>\n",
       "    <tr>\n",
       "      <th>강원</th>\n",
       "      <td>1940933</td>\n",
       "      <td>1400421</td>\n",
       "      <td>6203749</td>\n",
       "      <td>607139</td>\n",
       "      <td>398287</td>\n",
       "      <td>6002286</td>\n",
       "      <td>546621</td>\n",
       "      <td>13027</td>\n",
       "      <td>19147</td>\n",
       "      <td>24382</td>\n",
       "      <td>...</td>\n",
       "      <td>1038913</td>\n",
       "      <td>39477</td>\n",
       "      <td>35063</td>\n",
       "      <td>2019</td>\n",
       "      <td>38062</td>\n",
       "      <td>43986</td>\n",
       "      <td>113448</td>\n",
       "      <td>108629</td>\n",
       "      <td>12872</td>\n",
       "      <td>3418</td>\n",
       "    </tr>\n",
       "    <tr>\n",
       "      <th>경남</th>\n",
       "      <td>4260988</td>\n",
       "      <td>1427560</td>\n",
       "      <td>8667737</td>\n",
       "      <td>2141813</td>\n",
       "      <td>95989</td>\n",
       "      <td>18053778</td>\n",
       "      <td>932743</td>\n",
       "      <td>346974</td>\n",
       "      <td>60160</td>\n",
       "      <td>817685</td>\n",
       "      <td>...</td>\n",
       "      <td>3809547</td>\n",
       "      <td>1699879</td>\n",
       "      <td>1902913</td>\n",
       "      <td>8070</td>\n",
       "      <td>924235</td>\n",
       "      <td>534196</td>\n",
       "      <td>2156059</td>\n",
       "      <td>2048646</td>\n",
       "      <td>262523</td>\n",
       "      <td>47662</td>\n",
       "    </tr>\n",
       "    <tr>\n",
       "      <th>경북</th>\n",
       "      <td>3302463</td>\n",
       "      <td>1578115</td>\n",
       "      <td>8487402</td>\n",
       "      <td>1747462</td>\n",
       "      <td>224568</td>\n",
       "      <td>30115601</td>\n",
       "      <td>566071</td>\n",
       "      <td>3780171</td>\n",
       "      <td>72680</td>\n",
       "      <td>361772</td>\n",
       "      <td>...</td>\n",
       "      <td>10874970</td>\n",
       "      <td>933178</td>\n",
       "      <td>782570</td>\n",
       "      <td>14468</td>\n",
       "      <td>750786</td>\n",
       "      <td>4174971</td>\n",
       "      <td>2356890</td>\n",
       "      <td>123935</td>\n",
       "      <td>60280</td>\n",
       "      <td>77104</td>\n",
       "    </tr>\n",
       "    <tr>\n",
       "      <th>광주</th>\n",
       "      <td>1954876</td>\n",
       "      <td>565527</td>\n",
       "      <td>3174973</td>\n",
       "      <td>74608</td>\n",
       "      <td>2898</td>\n",
       "      <td>2910768</td>\n",
       "      <td>161072</td>\n",
       "      <td>295922</td>\n",
       "      <td>6782</td>\n",
       "      <td>41827</td>\n",
       "      <td>...</td>\n",
       "      <td>75702</td>\n",
       "      <td>156396</td>\n",
       "      <td>198847</td>\n",
       "      <td>5967</td>\n",
       "      <td>236622</td>\n",
       "      <td>723764</td>\n",
       "      <td>512148</td>\n",
       "      <td>5140</td>\n",
       "      <td>13392</td>\n",
       "      <td>16049</td>\n",
       "    </tr>\n",
       "    <tr>\n",
       "      <th>대구</th>\n",
       "      <td>3151904</td>\n",
       "      <td>826396</td>\n",
       "      <td>5470438</td>\n",
       "      <td>69142</td>\n",
       "      <td>5858</td>\n",
       "      <td>5862633</td>\n",
       "      <td>212626</td>\n",
       "      <td>1057342</td>\n",
       "      <td>16215</td>\n",
       "      <td>445646</td>\n",
       "      <td>...</td>\n",
       "      <td>317580</td>\n",
       "      <td>661307</td>\n",
       "      <td>516493</td>\n",
       "      <td>58446</td>\n",
       "      <td>180189</td>\n",
       "      <td>252662</td>\n",
       "      <td>1381273</td>\n",
       "      <td>68127</td>\n",
       "      <td>41814</td>\n",
       "      <td>33616</td>\n",
       "    </tr>\n",
       "  </tbody>\n",
       "</table>\n",
       "<p>5 rows × 24 columns</p>\n",
       "</div>"
      ],
      "text/plain": [
       "        주거용      공공용     서비스업     농림어업      광업       제조업   식료품제조    섬유,의류  \\\n",
       "구분                                                                          \n",
       "강원  1940933  1400421  6203749   607139  398287   6002286  546621    13027   \n",
       "경남  4260988  1427560  8667737  2141813   95989  18053778  932743   346974   \n",
       "경북  3302463  1578115  8487402  1747462  224568  30115601  566071  3780171   \n",
       "광주  1954876   565527  3174973    74608    2898   2910768  161072   295922   \n",
       "대구  3151904   826396  5470438    69142    5858   5862633  212626  1057342   \n",
       "\n",
       "    목재,나무   펄프,종이  ...        1차금속     조립금속     기타기계   사무기기    전기기기    영상,음향  \\\n",
       "구분                 ...                                                         \n",
       "강원  19147   24382  ...     1038913    39477    35063   2019   38062    43986   \n",
       "경남  60160  817685  ...     3809547  1699879  1902913   8070  924235   534196   \n",
       "경북  72680  361772  ...    10874970   933178   782570  14468  750786  4174971   \n",
       "광주   6782   41827  ...       75702   156396   198847   5967  236622   723764   \n",
       "대구  16215  445646  ...      317580   661307   516493  58446  180189   252662   \n",
       "\n",
       "        자동차     기타운송   가구및기타   재생재료  \n",
       "구분                                   \n",
       "강원   113448   108629   12872   3418  \n",
       "경남  2156059  2048646  262523  47662  \n",
       "경북  2356890   123935   60280  77104  \n",
       "광주   512148     5140   13392  16049  \n",
       "대구  1381273    68127   41814  33616  \n",
       "\n",
       "[5 rows x 24 columns]"
      ]
     },
     "execution_count": 213,
     "metadata": {},
     "output_type": "execute_result"
    }
   ],
   "source": [
    "power2.head()"
   ]
  },
  {
   "cell_type": "code",
   "execution_count": 214,
   "metadata": {},
   "outputs": [
    {
     "data": {
      "text/plain": [
       "Index(['강원', '경남', '경북', '광주', '대구', '대전', '부산', '세종', '울산', '인천', '전남', '전북',\n",
       "       '제주', '충남', '충북'],\n",
       "      dtype='object', name='구분')"
      ]
     },
     "execution_count": 214,
     "metadata": {},
     "output_type": "execute_result"
    }
   ],
   "source": [
    "index_power = power2.index\n",
    "column_power = power2.columns\n",
    "manufacture = list(column_power).index('제조업')\n",
    "service = list(column_power).index('서비스업')"
   ]
  },
  {
   "cell_type": "code",
   "execution_count": 217,
   "metadata": {},
   "outputs": [],
   "source": [
    "from sklearn.preprocessing import StandardScaler\n",
    "scaler = StandardScaler()\n",
    "# 이제 power3는 ndarray이다\n",
    "power3 = scaler.fit_transform(power2)"
   ]
  },
  {
   "cell_type": "code",
   "execution_count": 218,
   "metadata": {},
   "outputs": [
    {
     "data": {
      "text/plain": [
       "pandas.core.frame.DataFrame"
      ]
     },
     "execution_count": 218,
     "metadata": {},
     "output_type": "execute_result"
    }
   ],
   "source": [
    "type(power3);type(power2)"
   ]
  },
  {
   "cell_type": "code",
   "execution_count": 219,
   "metadata": {},
   "outputs": [
    {
     "data": {
      "image/png": "[encoded data removed]",
      "text/plain": [
       "<Figure size 720x360 with 1 Axes>"
      ]
     },
     "metadata": {
      "needs_background": "light"
     },
     "output_type": "display_data"
    }
   ],
   "source": [
    "Z = linkage(power3, metric='euclidean', method='ward') \n",
    "# 유클리드 거리를 이용해 Linkage Matrix를 생성\n",
    "plt.figure(figsize=(10, 5))\n",
    "plt.title('덴드로그램')\n",
    "dendrogram(Z, labels=index_power)\n",
    "plt.show()"
   ]
  },
  {
   "cell_type": "code",
   "execution_count": 220,
   "metadata": {},
   "outputs": [],
   "source": [
    "k = KMeans(n_clusters=8).fit(power3)"
   ]
  },
  {
   "cell_type": "code",
   "execution_count": 221,
   "metadata": {
    "scrolled": true
   },
   "outputs": [
    {
     "name": "stdout",
     "output_type": "stream",
     "text": [
      "15\n"
     ]
    },
    {
     "data": {
      "image/png": "[encoded data removed]",
      "text/plain": [
       "<Figure size 720x576 with 1 Axes>"
      ]
     },
     "metadata": {
      "needs_background": "light"
     },
     "output_type": "display_data"
    }
   ],
   "source": [
    "n_samples = power3.shape[0]\n",
    "print(n_samples)\n",
    "\n",
    "plt.figure(figsize=(10, 8))\n",
    "plt.xlabel('서비스업')\n",
    "plt.ylabel('제조업')\n",
    "\n",
    "for n in range(n_samples):\n",
    "    label = k.labels_[n]\n",
    "    plt.scatter(power3[n][service], power3[n][manufacture], c=my_color[label], marker=my_markers[label], s=100)\n",
    "    plt.text(power3[n][service]*1.05, power3[n][manufacture]*0.99, index_power[n])"
   ]
  },
  {
   "cell_type": "markdown",
   "metadata": {},
   "source": [
    "## DBSCAN"
   ]
  },
  {
   "cell_type": "code",
   "execution_count": 224,
   "metadata": {},
   "outputs": [
    {
     "data": {
      "image/png": "[encoded data removed]",
      "text/plain": [
       "<Figure size 432x288 with 1 Axes>"
      ]
     },
     "metadata": {
      "needs_background": "light"
     },
     "output_type": "display_data"
    }
   ],
   "source": [
    "from sklearn.datasets import make_moons\n",
    "from sklearn.cluster import DBSCAN\n",
    "X, y = make_moons(n_samples=300, noise=0.05, random_state=11)\n",
    "plt.scatter(X[:,0], X[:,1])\n",
    "plt.show()"
   ]
  },
  {
   "cell_type": "code",
   "execution_count": 225,
   "metadata": {},
   "outputs": [
    {
     "data": {
      "text/plain": [
       "<matplotlib.collections.PathCollection at 0x10e8d90f0>"
      ]
     },
     "execution_count": 225,
     "metadata": {},
     "output_type": "execute_result"
    },
    {
     "data": {
      "image/png": "[encoded data removed]",
      "text/plain": [
       "<Figure size 432x288 with 1 Axes>"
      ]
     },
     "metadata": {
      "needs_background": "light"
     },
     "output_type": "display_data"
    }
   ],
   "source": [
    "kmeans = KMeans(n_clusters=2)\n",
    "predict = kmeans.fit_predict(X)\n",
    "plt.scatter(X[:,0], X[:,1],c=predict)"
   ]
  },
  {
   "cell_type": "code",
   "execution_count": 226,
   "metadata": {},
   "outputs": [
    {
     "data": {
      "text/plain": [
       "<matplotlib.collections.PathCollection at 0x10e3fcc18>"
      ]
     },
     "execution_count": 226,
     "metadata": {},
     "output_type": "execute_result"
    },
    {
     "data": {
      "image/png": "[encoded data removed]",
      "text/plain": [
       "<Figure size 432x288 with 1 Axes>"
      ]
     },
     "metadata": {
      "needs_background": "light"
     },
     "output_type": "display_data"
    }
   ],
   "source": [
    "dbscan = DBSCAN(eps=0.2, min_samples=10, metric='euclidean')\n",
    "predict = dbscan.fit_predict(X)\n",
    "plt.scatter(X[:,0], X[:,1],c=predict)"
   ]
  },
  {
   "cell_type": "code",
   "execution_count": null,
   "metadata": {},
   "outputs": [],
   "source": []
  }
 ],
 "metadata": {
  "kernelspec": {
   "display_name": "Python 3",
   "language": "python",
   "name": "python3"
  },
  "language_info": {
   "codemirror_mode": {
    "name": "ipython",
    "version": 3
   },
   "file_extension": ".py",
   "mimetype": "text/x-python",
   "name": "python",
   "nbconvert_exporter": "python",
   "pygments_lexer": "ipython3",
   "version": "3.6.6"
  }
 },
 "nbformat": 4,
 "nbformat_minor": 2
}
